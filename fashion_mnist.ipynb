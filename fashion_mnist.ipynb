{
  "nbformat": 4,
  "nbformat_minor": 0,
  "metadata": {
    "colab": {
      "provenance": [],
      "gpuType": "T4"
    },
    "kernelspec": {
      "name": "python3",
      "display_name": "Python 3"
    },
    "language_info": {
      "name": "python"
    },
    "accelerator": "GPU"
  },
  "cells": [
    {
      "cell_type": "code",
      "source": [
        "import os\n",
        "\n",
        "if os.system('nvidia-smi'):\n",
        "  raise Exception(\"Gpu unavailable\")"
      ],
      "metadata": {
        "id": "XnobORR_YeG3"
      },
      "execution_count": 32,
      "outputs": []
    },
    {
      "cell_type": "code",
      "source": [
        "import numpy as np\n",
        "import torch\n",
        "import matplotlib.pyplot as plt"
      ],
      "metadata": {
        "id": "lrDpulcCYfki"
      },
      "execution_count": 33,
      "outputs": []
    },
    {
      "cell_type": "code",
      "source": [
        "# GPU check\n",
        "import psutil\n",
        "import humanize\n",
        "import os\n",
        "import GPUtil as GPU\n",
        "GPUs = GPU.getGPUs()\n",
        "# XXX: only one GPU on Colab and isn’t guaranteed\n",
        "gpu = GPUs[0]\n",
        "def printm():\n",
        " process = psutil.Process(os.getpid())\n",
        " print(\"Gen RAM Free: \" + humanize.naturalsize( psutil.virtual_memory().available ), \" | Proc size: \" + humanize.naturalsize( process.memory_info().rss))\n",
        " print(\"GPU RAM Free: {0:.0f}MB | Used: {1:.0f}MB | Util {2:3.0f}% | Total {3:.0f}MB\".format(gpu.memoryFree, gpu.memoryUsed, gpu.memoryUtil*100, gpu.memoryTotal))\n",
        "printm()"
      ],
      "metadata": {
        "colab": {
          "base_uri": "https://localhost:8080/"
        },
        "id": "XlPxkE3KY5L1",
        "outputId": "d538594c-fa6b-4cd6-8a30-3cf3ba1b9a3f"
      },
      "execution_count": 34,
      "outputs": [
        {
          "output_type": "stream",
          "name": "stdout",
          "text": [
            "Gen RAM Free: 12.2 GB  | Proc size: 771.6 MB\n",
            "GPU RAM Free: 15101MB | Used: 0MB | Util   0% | Total 15360MB\n"
          ]
        }
      ]
    },
    {
      "cell_type": "code",
      "source": [
        "# Loading the Fashion-MNIST dataset\n",
        "from torchvision import datasets, transforms"
      ],
      "metadata": {
        "id": "vn-hOhuoY96H"
      },
      "execution_count": 35,
      "outputs": []
    },
    {
      "cell_type": "code",
      "source": [
        "transform = transforms.Compose([transforms.ToTensor(),\n",
        "                                transforms.Normalize((0.5,), (0.5,))])"
      ],
      "metadata": {
        "id": "RLAu2JMrZIwu"
      },
      "execution_count": 36,
      "outputs": []
    },
    {
      "cell_type": "code",
      "source": [
        "trainset = datasets.FashionMNIST('MNIST_data/', download = True, train = True, transform = transform)\n",
        "testset = datasets.FashionMNIST('MNIST_data/', download = True, train = False, transform = transform)\n",
        "trainloader = torch.utils.data.DataLoader(trainset, batch_size = 64, shuffle = True)\n",
        "testloader = torch.utils.data.DataLoader(testset, batch_size = 64, shuffle = True)\n",
        ""
      ],
      "metadata": {
        "id": "p0v5BOGNZWUZ"
      },
      "execution_count": 37,
      "outputs": []
    },
    {
      "cell_type": "code",
      "source": [
        "dataiter = iter(trainloader)\n",
        "images, labels = next(dataiter)\n",
        "print(type(images))\n",
        "print(images.shape)\n",
        "print(labels.shape)"
      ],
      "metadata": {
        "colab": {
          "base_uri": "https://localhost:8080/"
        },
        "id": "hxo5UAYFZZes",
        "outputId": "d3d1e15e-1e25-446c-eafd-ed887c4a425a"
      },
      "execution_count": 38,
      "outputs": [
        {
          "output_type": "stream",
          "name": "stdout",
          "text": [
            "<class 'torch.Tensor'>\n",
            "torch.Size([64, 1, 28, 28])\n",
            "torch.Size([64])\n"
          ]
        }
      ]
    },
    {
      "cell_type": "code",
      "source": [
        "plt.imshow(images[1].numpy().squeeze(), cmap = 'Greys_r')"
      ],
      "metadata": {
        "colab": {
          "base_uri": "https://localhost:8080/",
          "height": 448
        },
        "id": "DP6Qvme8Ztrz",
        "outputId": "bedbf46b-a671-468e-bb73-1dbfbf8b0b60"
      },
      "execution_count": 39,
      "outputs": [
        {
          "output_type": "execute_result",
          "data": {
            "text/plain": [
              "<matplotlib.image.AxesImage at 0x7df3a17b56f0>"
            ]
          },
          "metadata": {},
          "execution_count": 39
        },
        {
          "output_type": "display_data",
          "data": {
            "text/plain": [
              "<Figure size 640x480 with 1 Axes>"
            ],
            "image/png": "[encoded data removed]"
          },
          "metadata": {}
        }
      ]
    },
    {
      "cell_type": "code",
      "source": [
        "labels[1].item()"
      ],
      "metadata": {
        "colab": {
          "base_uri": "https://localhost:8080/"
        },
        "id": "DeD51CA8Z2yu",
        "outputId": "d3cd2fc3-d7ec-4910-c88e-7cd19dbe9bb8"
      },
      "execution_count": 40,
      "outputs": [
        {
          "output_type": "execute_result",
          "data": {
            "text/plain": [
              "6"
            ]
          },
          "metadata": {},
          "execution_count": 40
        }
      ]
    },
    {
      "cell_type": "code",
      "source": [
        "text_labels=['t-shirt', 'trouser', 'pullover', 'dress', 'coat',\n",
        "             'sandal', 'shirt', 'sneaker', 'bag', 'ankle boot']\n"
      ],
      "metadata": {
        "id": "0d5AP4wCa7pL"
      },
      "execution_count": 41,
      "outputs": []
    },
    {
      "cell_type": "code",
      "source": [
        "import matplotlib.pyplot as plt\n",
        "plt.figure(dpi=300,figsize=(8,4))\n",
        "for i in range(1):\n",
        "    ax=plt.subplot(3, 8, i + 1)    #A\n",
        "    img=trainset[i][0]    #B\n",
        "    img=img/2+0.5    #C\n",
        "    img=img.reshape(28, 28)    #D\n",
        "    plt.imshow(img,\n",
        "               cmap=\"binary\")\n",
        "    plt.axis('off')\n",
        "    plt.title(text_labels[trainset[i][1]],    #E\n",
        "        fontsize=8)\n",
        "plt.show()\n"
      ],
      "metadata": {
        "colab": {
          "base_uri": "https://localhost:8080/",
          "height": 325
        },
        "id": "ajAn7NKuiguy",
        "outputId": "a059947a-11b9-4a1e-ce8b-58490ad7663d"
      },
      "execution_count": 44,
      "outputs": [
        {
          "output_type": "display_data",
          "data": {
            "text/plain": [
              "<Figure size 2400x1200 with 1 Axes>"
            ],
            "image/png": "[encoded data removed]"
          },
          "metadata": {}
        }
      ]
    },
    {
      "cell_type": "code",
      "source": [
        "# Define the network architecture\n",
        "from torch import nn, optim\n",
        "import torch.nn.functional as F\n",
        "\n",
        "model = nn.Sequential(nn.Linear(784, 256),\n",
        "                      nn.ReLU(),\n",
        "                      nn.Dropout(0.2),\n",
        "                      nn.Linear(256, 128),\n",
        "                      nn.ReLU(),\n",
        "                      nn.Dropout(0.2),\n",
        "                      nn.Linear(128, 64),\n",
        "                      nn.ReLU(),\n",
        "                      nn.Dropout(0.2),\n",
        "                      nn.Linear(64, 10),\n",
        "                      nn.LogSoftmax(dim = 1)\n",
        "                     )"
      ],
      "metadata": {
        "id": "clM_k4o7ipAB"
      },
      "execution_count": 45,
      "outputs": []
    },
    {
      "cell_type": "code",
      "source": [
        "# Define the loss\n",
        "criterion = nn.NLLLoss()"
      ],
      "metadata": {
        "id": "j_FJrwrqjNuy"
      },
      "execution_count": 46,
      "outputs": []
    },
    {
      "cell_type": "code",
      "source": [
        "# Define the optimizer\n",
        "optimizer = optim.Adam(model.parameters(), lr = 0.002)"
      ],
      "metadata": {
        "id": "tl4Qpd6GjSDD"
      },
      "execution_count": 47,
      "outputs": []
    },
    {
      "cell_type": "code",
      "source": [
        "# Define the epochs\n",
        "epochs = 30\n",
        "\n",
        "train_losses, test_losses = [], []"
      ],
      "metadata": {
        "id": "1zKatYujjbXk"
      },
      "execution_count": 48,
      "outputs": []
    },
    {
      "cell_type": "code",
      "source": [
        "for e in range(epochs):\n",
        "  running_loss = 0\n",
        "  for images, labels in trainloader:\n",
        "    # Flatten Fashion-MNIST images into a 784 long vector\n",
        "    images = images.view(images.shape[0], -1)\n",
        "\n",
        "    # Training pass\n",
        "    optimizer.zero_grad()\n",
        "\n",
        "    output = model.forward(images)\n",
        "    loss = criterion(output, labels)\n",
        "    loss.backward()\n",
        "    optimizer.step()\n",
        "\n",
        "    running_loss += loss.item()\n",
        "  else:\n",
        "    test_loss = 0\n",
        "    accuracy = 0\n",
        "\n",
        "    # Turn off gradients for validation, saves memory and computation\n",
        "    with torch.no_grad():\n",
        "      # Set the model to evaluation mode\n",
        "      model.eval()\n",
        "\n",
        "      # Validation pass\n",
        "      for images, labels in testloader:\n",
        "        images = images.view(images.shape[0], -1)\n",
        "        log_ps = model(images)\n",
        "        test_loss += criterion(log_ps, labels)\n",
        "\n",
        "        ps = torch.exp(log_ps)\n",
        "        top_p, top_class = ps.topk(1, dim = 1)\n",
        "        equals = top_class == labels.view(*top_class.shape)\n",
        "        accuracy += torch.mean(equals.type(torch.FloatTensor))\n",
        "\n",
        "    model.train()\n",
        "    train_losses.append(running_loss/len(trainloader))\n",
        "    test_losses.append(test_loss/len(testloader))\n",
        "\n",
        "    print(\"Epoch: {}/{}..\".format(e+1, epochs),\n",
        "          \"Training loss: {:.3f}..\".format(running_loss/len(trainloader)),\n",
        "          \"Test loss: {:.3f}..\".format(test_loss/len(testloader)),\n",
        "          \"Test Accuracy: {:.3f}\".format(accuracy/len(testloader)))\n",
        ""
      ],
      "metadata": {
        "colab": {
          "base_uri": "https://localhost:8080/"
        },
        "id": "JHvrKiHHjc_B",
        "outputId": "7e030e99-12df-4a24-de41-fa8d6fe378ca"
      },
      "execution_count": 49,
      "outputs": [
        {
          "output_type": "stream",
          "name": "stdout",
          "text": [
            "Epoch: 1/30.. Training loss: 0.586.. Test loss: 0.454.. Test Accuracy: 0.834\n",
            "Epoch: 2/30.. Training loss: 0.456.. Test loss: 0.422.. Test Accuracy: 0.849\n",
            "Epoch: 3/30.. Training loss: 0.421.. Test loss: 0.407.. Test Accuracy: 0.853\n",
            "Epoch: 4/30.. Training loss: 0.400.. Test loss: 0.408.. Test Accuracy: 0.852\n",
            "Epoch: 5/30.. Training loss: 0.383.. Test loss: 0.403.. Test Accuracy: 0.857\n",
            "Epoch: 6/30.. Training loss: 0.376.. Test loss: 0.402.. Test Accuracy: 0.854\n",
            "Epoch: 7/30.. Training loss: 0.368.. Test loss: 0.360.. Test Accuracy: 0.870\n",
            "Epoch: 8/30.. Training loss: 0.358.. Test loss: 0.376.. Test Accuracy: 0.867\n",
            "Epoch: 9/30.. Training loss: 0.351.. Test loss: 0.364.. Test Accuracy: 0.870\n",
            "Epoch: 10/30.. Training loss: 0.347.. Test loss: 0.370.. Test Accuracy: 0.868\n",
            "Epoch: 11/30.. Training loss: 0.339.. Test loss: 0.357.. Test Accuracy: 0.875\n",
            "Epoch: 12/30.. Training loss: 0.338.. Test loss: 0.356.. Test Accuracy: 0.875\n",
            "Epoch: 13/30.. Training loss: 0.331.. Test loss: 0.363.. Test Accuracy: 0.873\n",
            "Epoch: 14/30.. Training loss: 0.327.. Test loss: 0.355.. Test Accuracy: 0.878\n",
            "Epoch: 15/30.. Training loss: 0.318.. Test loss: 0.368.. Test Accuracy: 0.873\n",
            "Epoch: 16/30.. Training loss: 0.317.. Test loss: 0.350.. Test Accuracy: 0.881\n",
            "Epoch: 17/30.. Training loss: 0.313.. Test loss: 0.350.. Test Accuracy: 0.879\n",
            "Epoch: 18/30.. Training loss: 0.314.. Test loss: 0.359.. Test Accuracy: 0.872\n",
            "Epoch: 19/30.. Training loss: 0.312.. Test loss: 0.351.. Test Accuracy: 0.879\n",
            "Epoch: 20/30.. Training loss: 0.309.. Test loss: 0.350.. Test Accuracy: 0.881\n",
            "Epoch: 21/30.. Training loss: 0.306.. Test loss: 0.364.. Test Accuracy: 0.874\n",
            "Epoch: 22/30.. Training loss: 0.301.. Test loss: 0.363.. Test Accuracy: 0.879\n",
            "Epoch: 23/30.. Training loss: 0.298.. Test loss: 0.343.. Test Accuracy: 0.881\n",
            "Epoch: 24/30.. Training loss: 0.295.. Test loss: 0.350.. Test Accuracy: 0.881\n",
            "Epoch: 25/30.. Training loss: 0.296.. Test loss: 0.340.. Test Accuracy: 0.886\n",
            "Epoch: 26/30.. Training loss: 0.288.. Test loss: 0.351.. Test Accuracy: 0.881\n",
            "Epoch: 27/30.. Training loss: 0.292.. Test loss: 0.334.. Test Accuracy: 0.884\n",
            "Epoch: 28/30.. Training loss: 0.294.. Test loss: 0.374.. Test Accuracy: 0.873\n",
            "Epoch: 29/30.. Training loss: 0.291.. Test loss: 0.348.. Test Accuracy: 0.883\n",
            "Epoch: 30/30.. Training loss: 0.281.. Test loss: 0.354.. Test Accuracy: 0.880\n"
          ]
        }
      ]
    },
    {
      "cell_type": "code",
      "source": [
        "plt.plot(train_losses, label = \"Training loss\")\n",
        "plt.plot(test_losses, label = \"Validation loss\")\n",
        "plt.legend(frameon = False)"
      ],
      "metadata": {
        "colab": {
          "base_uri": "https://localhost:8080/",
          "height": 452
        },
        "id": "BoE3qvrnjicn",
        "outputId": "f61c5ae8-c155-4393-de9f-a78986f3ad30"
      },
      "execution_count": 50,
      "outputs": [
        {
          "output_type": "execute_result",
          "data": {
            "text/plain": [
              "<matplotlib.legend.Legend at 0x7df3a115d180>"
            ]
          },
          "metadata": {},
          "execution_count": 50
        },
        {
          "output_type": "display_data",
          "data": {
            "text/plain": [
              "<Figure size 640x480 with 1 Axes>"
            ],
            "image/png": "[encoded data removed]"
          },
          "metadata": {}
        }
      ]
    },
    {
      "cell_type": "code",
      "source": [],
      "metadata": {
        "id": "vn3WK8KjnpUv"
      },
      "execution_count": null,
      "outputs": []
    }
  ]
}